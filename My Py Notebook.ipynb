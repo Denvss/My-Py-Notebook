{
 "cells": [
  {
   "cell_type": "code",
   "execution_count": 1,
   "metadata": {},
   "outputs": [
    {
     "name": "stdout",
     "output_type": "stream",
     "text": [
      "Hi! it's me Denvs\n",
      "Thank You Lord!\n"
     ]
    }
   ],
   "source": [
    "print(\"Hi! it's me Denvs\")\n",
    "print(\"Thank You Lord!\")"
   ]
  },
  {
   "cell_type": "code",
   "execution_count": null,
   "metadata": {},
   "outputs": [],
   "source": []
  }
 ],
 "metadata": {
  "kernelspec": {
   "display_name": "Python 3",
   "language": "python",
   "name": "python3"
  },
  "language_info": {
   "codemirror_mode": {
    "name": "ipython",
    "version": 3
   },
   "file_extension": ".py",
   "mimetype": "text/x-python",
   "name": "python",
   "nbconvert_exporter": "python",
   "pygments_lexer": "ipython3",
   "version": "3.10.7"
  },
  "orig_nbformat": 4,
  "vscode": {
   "interpreter": {
    "hash": "d40e940ba1a6e4a983be1f28e011ed34ae5cf557e3f0b60cff4662aed417feed"
   }
  }
 },
 "nbformat": 4,
 "nbformat_minor": 2
}
